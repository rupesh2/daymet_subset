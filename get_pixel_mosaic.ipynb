{
 "cells": [
  {
   "cell_type": "markdown",
   "metadata": {},
   "source": [
    "# Get pixel value from mosaic Daymet file\n",
    "In this tutorial we will retrieve two Daymet variables (`tmax`, `tmin`) for a location (`35.5N`, `87.0W` degrees) and time period `2011` to `2015`. \n",
    "\n",
    "First, let's import the modules."
   ]
  },
  {
   "cell_type": "code",
   "execution_count": 1,
   "metadata": {},
   "outputs": [],
   "source": [
    "# import modules\n",
    "import netCDF4 as nc\n",
    "from os import path\n",
    "import numpy as np\n",
    "import pandas as pd\n",
    "import matplotlib.pyplot as plt\n",
    "from datetime import datetime\n",
    "from pyproj import Proj"
   ]
  },
  {
   "cell_type": "markdown",
   "metadata": {},
   "source": [
    "Now, set the required variables."
   ]
  },
  {
   "cell_type": "code",
   "execution_count": 2,
   "metadata": {},
   "outputs": [],
   "source": [
    "# daymet root directory where the mosaic files are located\n",
    "daymet_dir = '/daymet_data/V4/CFMosaic_na/'\n",
    "\n",
    "# set min and max years\n",
    "daymet_yrs = list(range(2011, 2016))\n",
    "# set  Daymet variables\n",
    "bands = ['tmax', 'tmin']\n",
    "# coordinates in degrees of the location of interest\n",
    "lat = 35.5\n",
    "lon = -87.0"
   ]
  },
  {
   "cell_type": "markdown",
   "metadata": {},
   "source": [
    "Let's convert the above defined coordinates to Daymet's LCC coordinates."
   ]
  },
  {
   "cell_type": "code",
   "execution_count": 3,
   "metadata": {},
   "outputs": [
    {
     "name": "stdout",
     "output_type": "stream",
     "text": [
      "LCC coordinates of (-87.0, 35.5) degrees is (1130243.6926487826, -655231.8105294534) meters\n"
     ]
    }
   ],
   "source": [
    "# function to convert latlon to LCC \n",
    "def latlon_to_lcc(lon, lat):\n",
    "    # defining LCC projection of Daymet\n",
    "    p = Proj(\"+proj=lcc +ellps=WGS84 +a=6378137 +b=6356752.314245 +lat_1=25 +lat_2=60 +lon_0=-100 +lat_0=42.5 +x_0=0 +y_0=0 +units=m +no_defs\")\n",
    "    lcc_xy = p(lon, lat)\n",
    "    return lcc_xy\n",
    "\n",
    "# getting lambert coordinates\n",
    "lambert_x, lambert_y = latlon_to_lcc(lon, lat)\n",
    "\n",
    "# print\n",
    "print(f\"LCC coordinates of ({lon}, {lat}) degrees is ({lambert_x}, {lambert_y}) meters\")"
   ]
  },
  {
   "cell_type": "markdown",
   "metadata": {},
   "source": [
    "Now, let's loop over the years and bands and retrieve daymet pixel values."
   ]
  },
  {
   "cell_type": "code",
   "execution_count": 4,
   "metadata": {},
   "outputs": [],
   "source": [
    "# initialize arrays to store time, variables, and pixel values\n",
    "daymet_vars = []\n",
    "daymet_time = []\n",
    "daymet_data = []\n",
    "\n",
    "# loop through the years \n",
    "for daymet_yr in daymet_yrs:\n",
    "    # loop through the bands\n",
    "    for band in bands:\n",
    "        # path of the mosaic file\n",
    "        mosaic_f = path.join(daymet_dir, f'{daymet_yr}', f'{band}.nc')\n",
    "        \n",
    "        # repeat the band name 365 times\n",
    "        daymet_vars.extend([band] * 365)\n",
    "\n",
    "        # open mosaic netcdf\n",
    "        mosaic_nc = nc.Dataset(mosaic_f)\n",
    "        \n",
    "        # read x, y \n",
    "        xs = mosaic_nc['x'][:]\n",
    "        ys = mosaic_nc['y'][:]\n",
    "        \n",
    "        # find the closest pixel\n",
    "        iyy = (np.abs(ys - lambert_y)).argmin()\n",
    "        ixx = (np.abs(xs - lambert_x)).argmin()\n",
    "        \n",
    "        # retrieve daymet data for whole 365 days\n",
    "        daymet_data.extend(mosaic_nc[band][:, iyy, ixx].tolist())\n",
    "        \n",
    "        # retrieve daymet time\n",
    "        dm_time = mosaic_nc['time']\n",
    "        daymet_time.extend(nc.num2date(dm_time[:], units=dm_time.units))\n",
    "        \n",
    "        # close the mosaic netcdf\n",
    "        mosaic_nc.close()          "
   ]
  },
  {
   "cell_type": "code",
   "execution_count": 5,
   "metadata": {},
   "outputs": [
    {
     "data": {
      "text/html": [
       "<div>\n",
       "<style scoped>\n",
       "    .dataframe tbody tr th:only-of-type {\n",
       "        vertical-align: middle;\n",
       "    }\n",
       "\n",
       "    .dataframe tbody tr th {\n",
       "        vertical-align: top;\n",
       "    }\n",
       "\n",
       "    .dataframe thead th {\n",
       "        text-align: right;\n",
       "    }\n",
       "</style>\n",
       "<table border=\"1\" class=\"dataframe\">\n",
       "  <thead>\n",
       "    <tr style=\"text-align: right;\">\n",
       "      <th></th>\n",
       "      <th>Vars</th>\n",
       "      <th>DateTime</th>\n",
       "      <th>Pixel_Value</th>\n",
       "    </tr>\n",
       "  </thead>\n",
       "  <tbody>\n",
       "    <tr>\n",
       "      <th>0</th>\n",
       "      <td>tmax</td>\n",
       "      <td>2011-01-01 12:00:00</td>\n",
       "      <td>10.90</td>\n",
       "    </tr>\n",
       "    <tr>\n",
       "      <th>1</th>\n",
       "      <td>tmax</td>\n",
       "      <td>2011-01-02 12:00:00</td>\n",
       "      <td>3.54</td>\n",
       "    </tr>\n",
       "    <tr>\n",
       "      <th>2</th>\n",
       "      <td>tmax</td>\n",
       "      <td>2011-01-03 12:00:00</td>\n",
       "      <td>7.75</td>\n",
       "    </tr>\n",
       "    <tr>\n",
       "      <th>3</th>\n",
       "      <td>tmax</td>\n",
       "      <td>2011-01-04 12:00:00</td>\n",
       "      <td>12.60</td>\n",
       "    </tr>\n",
       "    <tr>\n",
       "      <th>4</th>\n",
       "      <td>tmax</td>\n",
       "      <td>2011-01-05 12:00:00</td>\n",
       "      <td>4.21</td>\n",
       "    </tr>\n",
       "    <tr>\n",
       "      <th>...</th>\n",
       "      <td>...</td>\n",
       "      <td>...</td>\n",
       "      <td>...</td>\n",
       "    </tr>\n",
       "    <tr>\n",
       "      <th>3645</th>\n",
       "      <td>tmin</td>\n",
       "      <td>2015-12-27 12:00:00</td>\n",
       "      <td>15.95</td>\n",
       "    </tr>\n",
       "    <tr>\n",
       "      <th>3646</th>\n",
       "      <td>tmin</td>\n",
       "      <td>2015-12-28 12:00:00</td>\n",
       "      <td>13.30</td>\n",
       "    </tr>\n",
       "    <tr>\n",
       "      <th>3647</th>\n",
       "      <td>tmin</td>\n",
       "      <td>2015-12-29 12:00:00</td>\n",
       "      <td>6.31</td>\n",
       "    </tr>\n",
       "    <tr>\n",
       "      <th>3648</th>\n",
       "      <td>tmin</td>\n",
       "      <td>2015-12-30 12:00:00</td>\n",
       "      <td>4.79</td>\n",
       "    </tr>\n",
       "    <tr>\n",
       "      <th>3649</th>\n",
       "      <td>tmin</td>\n",
       "      <td>2015-12-31 12:00:00</td>\n",
       "      <td>2.08</td>\n",
       "    </tr>\n",
       "  </tbody>\n",
       "</table>\n",
       "<p>3650 rows × 3 columns</p>\n",
       "</div>"
      ],
      "text/plain": [
       "      Vars            DateTime  Pixel_Value\n",
       "0     tmax 2011-01-01 12:00:00        10.90\n",
       "1     tmax 2011-01-02 12:00:00         3.54\n",
       "2     tmax 2011-01-03 12:00:00         7.75\n",
       "3     tmax 2011-01-04 12:00:00        12.60\n",
       "4     tmax 2011-01-05 12:00:00         4.21\n",
       "...    ...                 ...          ...\n",
       "3645  tmin 2015-12-27 12:00:00        15.95\n",
       "3646  tmin 2015-12-28 12:00:00        13.30\n",
       "3647  tmin 2015-12-29 12:00:00         6.31\n",
       "3648  tmin 2015-12-30 12:00:00         4.79\n",
       "3649  tmin 2015-12-31 12:00:00         2.08\n",
       "\n",
       "[3650 rows x 3 columns]"
      ]
     },
     "execution_count": 5,
     "metadata": {},
     "output_type": "execute_result"
    }
   ],
   "source": [
    "# put the lists into a pandas dataframe\n",
    "pixel_df = pd.DataFrame(list(zip(daymet_vars, daymet_time, daymet_data)), \n",
    "                        columns = ['Vars', 'DateTime', 'Pixel_Value'])\n",
    "# print\n",
    "pixel_df"
   ]
  },
  {
   "cell_type": "code",
   "execution_count": 6,
   "metadata": {},
   "outputs": [
    {
     "data": {
      "text/plain": [
       "<matplotlib.axes._subplots.AxesSubplot at 0x7f8933748ba8>"
      ]
     },
     "execution_count": 6,
     "metadata": {},
     "output_type": "execute_result"
    },
    {
     "data": {
      "image/png": "[encoded data removed]",
      "text/plain": [
       "<Figure size 432x288 with 1 Axes>"
      ]
     },
     "metadata": {
      "needs_background": "light"
     },
     "output_type": "display_data"
    }
   ],
   "source": [
    "# plot\n",
    "ax = pixel_df[pixel_df.Vars=='tmin'].plot(x='DateTime', y='Pixel_Value', label='tmin', color='g')\n",
    "pixel_df[pixel_df.Vars=='tmax'].plot(ax=ax, x='DateTime', y='Pixel_Value', label='tmax', color='b')"
   ]
  }
 ],
 "metadata": {
  "kernelspec": {
   "display_name": "Python 3",
   "language": "python",
   "name": "python3"
  },
  "language_info": {
   "codemirror_mode": {
    "name": "ipython",
    "version": 3
   },
   "file_extension": ".py",
   "mimetype": "text/x-python",
   "name": "python",
   "nbconvert_exporter": "python",
   "pygments_lexer": "ipython3",
   "version": "3.8.0"
  }
 },
 "nbformat": 4,
 "nbformat_minor": 2
}
