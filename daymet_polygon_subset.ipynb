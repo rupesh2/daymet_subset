{
 "cells": [
  {
   "cell_type": "markdown",
   "metadata": {},
   "source": [
    "# Download Daymet datasets for a Polygonal Area"
   ]
  },
  {
   "cell_type": "markdown",
   "metadata": {},
   "source": [
    "This tutorial will demonstrate how to download [Daymet: Daily Surface Weather Data on a 1-km Grid for North America, Version 4](https://daac.ornl.gov/cgi-bin/dsviewer.pl?ds_id=1840) for a polygonal area. Daymet dataset is available for North America, including Hawaii and Puerto Rico. \n",
    "\n",
    "We will use a boundary of the [Great Smokey Mountain National Park](https://www.nps.gov/grsm/planyourvisit/maps.htm) to demonstrate the spatial subsetting process.\n",
    "\n",
    "Daymet data is now archived at [NASA's EarthData Cloud](https://earthdata.nasa.gov/esds/cloud). Daymet data should be cited as: `Thornton, M.M., R. Shrestha, Y. Wei, P.E. Thornton, S. Kao, and B.E. Wilson. 2020. Daymet: Daily Surface Weather Data on a 1-km Grid for North America, Version 4. ORNL DAAC, Oak Ridge, Tennessee, USA. https://doi.org/10.3334/ORNLDAAC/1840`.\n",
    "\n",
    "The lastpart of the above citation is the Digital Object Identifier or [DOI](https://www.doi.org/). We can use the DOI to obtain NASA EarthData's unique ID for this dataset (called `Concept ID`) for this dataset. We will use NASA's [CMR API](https://cmr.earthdata.nasa.gov/search) for this purpose."
   ]
  },
  {
   "cell_type": "code",
   "execution_count": 34,
   "metadata": {},
   "outputs": [
    {
     "name": "stdout",
     "output_type": "stream",
     "text": [
      "C2031536952-ORNL_CLOUD\n"
     ]
    }
   ],
   "source": [
    "import requests\n",
    "daymet_doi = '10.3334/ORNLDAAC/1840'\n",
    "cmrurl='https://cmr.earthdata.nasa.gov/search/' \n",
    "doisearch = cmrurl + 'collections.json?doi=' + daymet_doi\n",
    "response = requests.get(doisearch)\n",
    "collection = response.json()['feed']['entry'][0]\n",
    "concept_id = collection['id']\n",
    "print(concept_id)"
   ]
  },
  {
   "cell_type": "markdown",
   "metadata": {},
   "source": [
    "`C2031536952-ORNL_CLOUD` is the unique NASA-given concept ID for the Daymet dataset. We can use this to get how many files (or granules) are in this dataset. Each granules also have an unique ID. Daymet filenames can be used to identify the files from the continental North America (`*_na_*.nc`). The files from Puerto Rico and Hawaii are named as `*_pr_*.nc` and (`*_hi_*.nc`) respectively. For the purpose of this tutorial we will download precipitation data (`prcp`) for the continental North America for the year 2000 onwards."
   ]
  },
  {
   "cell_type": "code",
   "execution_count": 89,
   "metadata": {},
   "outputs": [
    {
     "name": "stdout",
     "output_type": "stream",
     "text": [
      "Daymet_Daily_V4.daymet_v4_daily_na_prcp_2000.nc G2031546871-ORNL_CLOUD\n",
      "Daymet_Daily_V4.daymet_v4_daily_na_prcp_2001.nc G2031547255-ORNL_CLOUD\n",
      "Daymet_Daily_V4.daymet_v4_daily_na_prcp_2002.nc G2031547300-ORNL_CLOUD\n",
      "Daymet_Daily_V4.daymet_v4_daily_na_prcp_2003.nc G2031546890-ORNL_CLOUD\n",
      "Daymet_Daily_V4.daymet_v4_daily_na_prcp_2004.nc G2031546685-ORNL_CLOUD\n",
      "Daymet_Daily_V4.daymet_v4_daily_na_prcp_2005.nc G2031547378-ORNL_CLOUD\n",
      "Daymet_Daily_V4.daymet_v4_daily_na_prcp_2006.nc G2031547095-ORNL_CLOUD\n",
      "Daymet_Daily_V4.daymet_v4_daily_na_prcp_2007.nc G2031547268-ORNL_CLOUD\n",
      "Daymet_Daily_V4.daymet_v4_daily_na_prcp_2008.nc G2031546679-ORNL_CLOUD\n",
      "Daymet_Daily_V4.daymet_v4_daily_na_prcp_2009.nc G2031546315-ORNL_CLOUD\n",
      "Daymet_Daily_V4.daymet_v4_daily_na_prcp_2010.nc G2031547201-ORNL_CLOUD\n",
      "Daymet_Daily_V4.daymet_v4_daily_na_prcp_2011.nc G2031546964-ORNL_CLOUD\n",
      "Daymet_Daily_V4.daymet_v4_daily_na_prcp_2012.nc G2031546395-ORNL_CLOUD\n",
      "Daymet_Daily_V4.daymet_v4_daily_na_prcp_2013.nc G2031546538-ORNL_CLOUD\n",
      "Daymet_Daily_V4.daymet_v4_daily_na_prcp_2014.nc G2031547197-ORNL_CLOUD\n",
      "Daymet_Daily_V4.daymet_v4_daily_na_prcp_2015.nc G2031546717-ORNL_CLOUD\n",
      "Daymet_Daily_V4.daymet_v4_daily_na_prcp_2016.nc G2031546591-ORNL_CLOUD\n",
      "Daymet_Daily_V4.daymet_v4_daily_na_prcp_2017.nc G2031546960-ORNL_CLOUD\n",
      "Daymet_Daily_V4.daymet_v4_daily_na_prcp_2018.nc G2031546317-ORNL_CLOUD\n",
      "Daymet_Daily_V4.daymet_v4_daily_na_prcp_2019.nc G2031546515-ORNL_CLOUD\n",
      "Daymet_Daily_V4.daymet_v4_daily_na_prcp_2020.nc G2031546804-ORNL_CLOUD\n"
     ]
    }
   ],
   "source": [
    "granulesearch = cmrurl + 'granules.json?collection_concept_id=' + concept_id + '&page_size=2000'\n",
    "response = requests.get(granulesearch)\n",
    "granules = response.json()['feed']['entry']\n",
    "granule_ids = []\n",
    "for g in granules:\n",
    "    granule_title = g['title']\n",
    "    if \"na_prcp_2\" in granule_title:\n",
    "        granule_ids.append(g['id'])\n",
    "        print(granule_title, g['id'])"
   ]
  },
  {
   "cell_type": "markdown",
   "metadata": {},
   "source": [
    "Now the array `granule_ids` contains ids of all the granules we need. \n",
    "\n",
    "Daymet data is available through NASA's OpenDAP in Cloud, we will use to download the polygonal subset."
   ]
  },
  {
   "cell_type": "code",
   "execution_count": null,
   "metadata": {},
   "outputs": [],
   "source": [
    "ornl_opendap = 'https://opendap.earthdata.nasa.gov/providers/ORNL_CLOUD/collections/C2031536952-ORNL_CLOUD/granules/Daymet_Daily_V4.daymet_v4_daily_pr_dayl_1950.nc'"
   ]
  }
 ],
 "metadata": {
  "kernelspec": {
   "display_name": "Python 3",
   "language": "python",
   "name": "python3"
  },
  "language_info": {
   "codemirror_mode": {
    "name": "ipython",
    "version": 3
   },
   "file_extension": ".py",
   "mimetype": "text/x-python",
   "name": "python",
   "nbconvert_exporter": "python",
   "pygments_lexer": "ipython3",
   "version": "3.8.0"
  }
 },
 "nbformat": 4,
 "nbformat_minor": 2
}
