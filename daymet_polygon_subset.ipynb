{
 "cells": [
  {
   "cell_type": "markdown",
   "metadata": {},
   "source": [
    "# Download Daymet datasets for a Polygonal Area"
   ]
  },
  {
   "cell_type": "markdown",
   "metadata": {},
   "source": [
    "This tutorial will demonstrate how to download [Daymet: Daily Surface Weather Data on a 1-km Grid for North America, Version 4](https://daac.ornl.gov/cgi-bin/dsviewer.pl?ds_id=1840) for a polygonal area. Daymet dataset is available for North America (NA), including Hawaii (HI) and Puerto Rico (PR). "
   ]
  },
  {
   "cell_type": "markdown",
   "metadata": {},
   "source": [
    "## Polygonal Area\n",
    "We will use a boundary of the [Great Smokey Mountain National Park (GRSM)](https://www.nps.gov/grsm/planyourvisit/maps.htm) to demonstrate the spatial subsetting process. Let's read the boundary file first."
   ]
  },
  {
   "cell_type": "code",
   "execution_count": 1,
   "metadata": {},
   "outputs": [
    {
     "data": {
      "text/plain": [
       "<Projected CRS: EPSG:26917>\n",
       "Name: NAD83 / UTM zone 17N\n",
       "Axis Info [cartesian]:\n",
       "- E[east]: Easting (metre)\n",
       "- N[north]: Northing (metre)\n",
       "Area of Use:\n",
       "- name: North America - 84°W to 78°W and NAD83 by country\n",
       "- bounds: (-84.0, 23.81, -78.0, 84.0)\n",
       "Coordinate Operation:\n",
       "- name: UTM zone 17N\n",
       "- method: Transverse Mercator\n",
       "Datum: North American Datum 1983\n",
       "- Ellipsoid: GRS 1980\n",
       "- Prime Meridian: Greenwich"
      ]
     },
     "execution_count": 1,
     "metadata": {},
     "output_type": "execute_result"
    }
   ],
   "source": [
    "import geopandas as gpd\n",
    "grsm_poly = gpd.read_file('GRSM/GRSM_BOUNDARY_POLYGON_fid17.shp')\n",
    "grsm_poly.crs"
   ]
  },
  {
   "cell_type": "markdown",
   "metadata": {},
   "source": [
    "As we see above, the boundary file is in the `UTM 17N` projection. Daymet is natively in `lambert_conformal_conic (LCC)` system. We can now reproject the geopandas object (`grsm_poly`) to LCC."
   ]
  },
  {
   "cell_type": "code",
   "execution_count": 2,
   "metadata": {},
   "outputs": [
    {
     "data": {
      "text/plain": [
       "<Projected CRS: +proj=lcc +ellps=WGS84 +a=6378137 +b=6356752.31424 ...>\n",
       "Name: unknown\n",
       "Axis Info [cartesian]:\n",
       "- E[east]: Easting (metre)\n",
       "- N[north]: Northing (metre)\n",
       "Area of Use:\n",
       "- undefined\n",
       "Coordinate Operation:\n",
       "- name: unknown\n",
       "- method: Lambert Conic Conformal (2SP)\n",
       "Datum: unknown\n",
       "- Ellipsoid: WGS 84\n",
       "- Prime Meridian: Greenwich"
      ]
     },
     "execution_count": 2,
     "metadata": {},
     "output_type": "execute_result"
    }
   ],
   "source": [
    "#defining Daymet proj\n",
    "daymet_proj = \"+proj=lcc +ellps=WGS84 +a=6378137 +b=6356752.314245 +lat_1=25 +lat_2=60 +lon_0=-100 +lat_0=42.5 +x_0=0 +y_0=0 +units=m +no_defs\"\n",
    "grsm_poly_lcc = grsm_poly.to_crs(daymet_proj)\n",
    "grsm_poly_lcc.crs"
   ]
  },
  {
   "cell_type": "markdown",
   "metadata": {},
   "source": [
    "Now, let's get a bounding box of this polygon and plot its boundary."
   ]
  },
  {
   "cell_type": "code",
   "execution_count": 3,
   "metadata": {},
   "outputs": [
    {
     "data": {
      "text/html": [
       "<div>\n",
       "<style scoped>\n",
       "    .dataframe tbody tr th:only-of-type {\n",
       "        vertical-align: middle;\n",
       "    }\n",
       "\n",
       "    .dataframe tbody tr th {\n",
       "        vertical-align: top;\n",
       "    }\n",
       "\n",
       "    .dataframe thead th {\n",
       "        text-align: right;\n",
       "    }\n",
       "</style>\n",
       "<table border=\"1\" class=\"dataframe\">\n",
       "  <thead>\n",
       "    <tr style=\"text-align: right;\">\n",
       "      <th></th>\n",
       "      <th>minx</th>\n",
       "      <th>miny</th>\n",
       "      <th>maxx</th>\n",
       "      <th>maxy</th>\n",
       "    </tr>\n",
       "  </thead>\n",
       "  <tbody>\n",
       "    <tr>\n",
       "      <th>0</th>\n",
       "      <td>1.386957e+06</td>\n",
       "      <td>-612937.065386</td>\n",
       "      <td>1.470587e+06</td>\n",
       "      <td>-565105.068335</td>\n",
       "    </tr>\n",
       "  </tbody>\n",
       "</table>\n",
       "</div>"
      ],
      "text/plain": [
       "           minx           miny          maxx           maxy\n",
       "0  1.386957e+06 -612937.065386  1.470587e+06 -565105.068335"
      ]
     },
     "execution_count": 3,
     "metadata": {},
     "output_type": "execute_result"
    }
   ],
   "source": [
    "bounds = grsm_poly_lcc.bounds\n",
    "bounds"
   ]
  },
  {
   "cell_type": "code",
   "execution_count": 4,
   "metadata": {},
   "outputs": [
    {
     "data": {
      "image/png": "[encoded data removed]",
      "text/plain": [
       "<Figure size 432x288 with 1 Axes>"
      ]
     },
     "metadata": {
      "needs_background": "light"
     },
     "output_type": "display_data"
    }
   ],
   "source": [
    "ax= grsm_poly_lcc.plot()"
   ]
  },
  {
   "cell_type": "markdown",
   "metadata": {},
   "source": [
    "## Searching for Daymet Files\n",
    "Daymet data files (or granules) are natively in netCDF4 format, and each file has one year's worth of data. Data files are organized by variables (each for dayl, prcp, tmin, tmax, srad, swe, vp) and regions (each for US, PR, HI). We will first search for all the granules in the area of interest (i.e., GRSM) and the time period.  Daymet filenames can be used to identify the files from continental North America (`*_na_*.nc`). The files from Puerto Rico and Hawaii are named as `*_pr_*.nc` and (`*_hi_*.nc`) respectively. For this tutorial, we will download precipitation data (`prcp`) for the year 2010-2020."
   ]
  },
  {
   "cell_type": "code",
   "execution_count": 5,
   "metadata": {},
   "outputs": [],
   "source": [
    "import datetime as dt \n",
    "\n",
    "dt_format = '%Y-%m-%dT%H:%M:%SZ'\n",
    "start_date = dt.datetime(2010, 1, 1) # specify your own start date\n",
    "end_date = dt.datetime(2011, 1, 1)  # specify your end start date\n",
    "var = 'prcp' # select your own variable"
   ]
  },
  {
   "cell_type": "markdown",
   "metadata": {},
   "source": [
    "Daymet data is now archived at [NASA's EarthData Cloud](https://earthdata.nasa.gov/esds/cloud). Daymet data should be cited as: `Thornton, M.M., R. Shrestha, Y. Wei, P.E. Thornton, S. Kao, and B.E. Wilson. 2020. Daymet: Daily Surface Weather Data on a 1-km Grid for North America, Version 4. ORNL DAAC, Oak Ridge, Tennessee, USA. https://doi.org/10.3334/ORNLDAAC/1840`.\n",
    "\n",
    "The last part of the above citation is the Digital Object Identifier or [DOI](https://www.doi.org/). We can use the DOI to obtain NASA EarthData's unique ID for this dataset (called `Concept ID`). We will use NASA's [CMR API](https://cmr.earthdata.nasa.gov/search) for this purpose."
   ]
  },
  {
   "cell_type": "code",
   "execution_count": 6,
   "metadata": {},
   "outputs": [
    {
     "name": "stdout",
     "output_type": "stream",
     "text": [
      "C2031536952-ORNL_CLOUD\n"
     ]
    }
   ],
   "source": [
    "import requests\n",
    "daymet_doi = '10.3334/ORNLDAAC/1840'\n",
    "cmrurl='https://cmr.earthdata.nasa.gov/search/' # CMR API base url\n",
    "doisearch = cmrurl + 'collections.json?doi=' + daymet_doi\n",
    "response = requests.get(doisearch)\n",
    "collection = response.json()['feed']['entry'][0]\n",
    "concept_id = collection['id']\n",
    "print(concept_id)"
   ]
  },
  {
   "cell_type": "markdown",
   "metadata": {},
   "source": [
    "`C2031536952-ORNL_CLOUD` is the unique NASA-given concept ID for the Daymet dataset. We can use this to get relevant granules and their names. "
   ]
  },
  {
   "cell_type": "code",
   "execution_count": 7,
   "metadata": {},
   "outputs": [
    {
     "data": {
      "text/plain": [
       "(-84.0, 23.81, -78.0, 84.0)"
      ]
     },
     "execution_count": 7,
     "metadata": {},
     "output_type": "execute_result"
    }
   ],
   "source": [
    "# bound of polygon in lat, lng\n",
    "xy = grsm_poly.crs.area_of_use.bounds\n",
    "xy"
   ]
  },
  {
   "cell_type": "code",
   "execution_count": 8,
   "metadata": {},
   "outputs": [
    {
     "name": "stdout",
     "output_type": "stream",
     "text": [
      "Daymet_Daily_V4.daymet_v4_daily_na_prcp_2010.nc\n",
      "Daymet_Daily_V4.daymet_v4_daily_na_prcp_2011.nc\n"
     ]
    }
   ],
   "source": [
    "temporal_str = start_date.strftime(dt_format) + ',' + end_date.strftime(dt_format)\n",
    "\n",
    "granulesearch = cmrurl + 'granules.json?collection_concept_id=' + concept_id + \\\n",
    "                '&page_size=1000' + '&temporal=' + temporal_str + \\\n",
    "                '&bounding_box[]=' + ','.join(map(str, xy))\n",
    "                \n",
    "response = requests.get(granulesearch)\n",
    "granules = response.json()['feed']['entry']\n",
    "granule_names = []\n",
    "for g in granules:\n",
    "    granule_name = g['title']\n",
    "    if \"prcp_\" in granule_name:\n",
    "        granule_names.append(granule_name)\n",
    "        print(granule_name)"
   ]
  },
  {
   "cell_type": "markdown",
   "metadata": {},
   "source": [
    "Now the array `granule_names` contains the names of all the granules we need. \n",
    "\n",
    "## Downloading subset data through THREDDS\n",
    "Daymet data is available through ORNL DAAC's THREDDS server. We will use this to download the polygonal subset."
   ]
  },
  {
   "cell_type": "code",
   "execution_count": 9,
   "metadata": {},
   "outputs": [
    {
     "name": "stdout",
     "output_type": "stream",
     "text": [
      "https://thredds.daac.ornl.gov/thredds/dodsC/ornldaac/1840/daymet_v4_daily_na_prcp_2010.nc\n",
      "https://thredds.daac.ornl.gov/thredds/dodsC/ornldaac/1840/daymet_v4_daily_na_prcp_2011.nc\n"
     ]
    }
   ],
   "source": [
    "from pydap.client import open_url\n",
    "from pydap.cas.urs import setup_session\n",
    "import xarray as xr\n",
    "\n",
    "username = \"XXXX\" # Earthdata URS Login (only needed for NGAP Hyrax) Get account here https://urs.earthdata.nasa.gov/\n",
    "password= \"XXXX\"\n",
    "\n",
    "thredds_url = 'https://thredds.daac.ornl.gov/thredds/dodsC/ornldaac/1840/'\n",
    "# hyrax_url = 'http://opendap.earthdata.nasa.gov/collections/C2031536952-ORNL_CLOUD/granules/'\n",
    "\n",
    "session = setup_session(username, password, check_url=thredds_url)\n",
    "\n",
    "cnt = 0 \n",
    "for g_name in granule_names:\n",
    "    \n",
    "    granule_dap = thredds_url + g_name.replace('Daymet_Daily_V4.','')\n",
    "    #     granule_dap = hyrax_url + g_name\n",
    "    \n",
    "    thredds_ds = open_url(granule_dap, session=session)\n",
    "    ds = xr.open_dataset(xr.backends.PydapDataStore(thredds_ds), decode_coords=\"all\")\n",
    "    \n",
    "    dummy=ds['prcp'].sel(x=slice(bounds.minx[0],bounds.maxx[0]), y=slice(bounds.maxy[0],bounds.miny[0]))\n",
    "    \n",
    "    if cnt==0:\n",
    "        prcp = dummy\n",
    "    else:\n",
    "        prcp = xr.concat([prcp, dummy], dim=\"time\")\n",
    "    \n",
    "    cnt += 1\n",
    "    print(granule_dap)\n",
    "\n",
    "# save to netcdf\n",
    "prcp.to_netcdf(var + '_subset.nc')"
   ]
  },
  {
   "cell_type": "markdown",
   "metadata": {},
   "source": [
    "Now, the `prcp` contains subset data for the bounding box of our area. Let's plot a day of the data. "
   ]
  },
  {
   "cell_type": "code",
   "execution_count": 10,
   "metadata": {
    "scrolled": false
   },
   "outputs": [
    {
     "data": {
      "text/plain": [
       "<matplotlib.collections.QuadMesh at 0x11fbfbc70>"
      ]
     },
     "execution_count": 10,
     "metadata": {},
     "output_type": "execute_result"
    },
    {
     "data": {
      "image/png": "[encoded data removed]",
      "text/plain": [
       "<Figure size 432x288 with 2 Axes>"
      ]
     },
     "metadata": {
      "needs_background": "light"
     },
     "output_type": "display_data"
    }
   ],
   "source": [
    "import matplotlib.pyplot as plt\n",
    "prcp_grsm = prcp.isel(time=6)\n",
    "ax = plt.subplot()\n",
    "prcp_grsm.plot(ax=ax, cbar_kwargs={'label': 'mm/day'})"
   ]
  },
  {
   "cell_type": "markdown",
   "metadata": {},
   "source": [
    "## Clipping the subset area by polygon\n",
    "\n",
    "First, we will define an affine transformation."
   ]
  },
  {
   "cell_type": "code",
   "execution_count": 11,
   "metadata": {},
   "outputs": [
    {
     "data": {
      "text/plain": [
       "Affine(1000.0, 0.0, 1387250.0,\n",
       "       0.0, 1000.0, -612500.0)"
      ]
     },
     "execution_count": 11,
     "metadata": {},
     "output_type": "execute_result"
    }
   ],
   "source": [
    "from rasterio.transform import Affine\n",
    "res =1000 # daymet resolution\n",
    "transform = Affine.translation(min(prcp.x).values - res / 2, min(prcp.y).values - res / 2) * Affine.scale(res, res)\n",
    "transform"
   ]
  },
  {
   "cell_type": "code",
   "execution_count": 12,
   "metadata": {},
   "outputs": [],
   "source": [
    "from rasterio.features import geometry_mask\n",
    "grsm_mask = geometry_mask(grsm_poly_lcc.geometry, out_shape=(len(prcp.y), len(prcp.x)), transform=transform, invert=True)\n",
    "polymask = xr.DataArray(grsm_mask , dims=(\"y\", \"x\"))\n",
    "polymask = polymask.sel(y=slice(None, None, -1)) \n",
    "prcp_masked = prcp.where(polymask == True)\n",
    "prcp_masked.to_netcdf(var + '_subset_poly.nc')"
   ]
  },
  {
   "cell_type": "markdown",
   "metadata": {},
   "source": [
    "Now let's plot the subset data for a day."
   ]
  },
  {
   "cell_type": "code",
   "execution_count": 13,
   "metadata": {},
   "outputs": [
    {
     "data": {
      "text/plain": [
       "<matplotlib.collections.QuadMesh at 0x12f9f1dc0>"
      ]
     },
     "execution_count": 13,
     "metadata": {},
     "output_type": "execute_result"
    },
    {
     "data": {
      "image/png": "[encoded data removed]",
      "text/plain": [
       "<Figure size 432x288 with 2 Axes>"
      ]
     },
     "metadata": {
      "needs_background": "light"
     },
     "output_type": "display_data"
    }
   ],
   "source": [
    "import matplotlib.pyplot as plt\n",
    "prcp_1 = prcp_masked.isel(time=6)\n",
    "ax = plt.subplot()\n",
    "prcp_1.plot(ax=ax, cbar_kwargs={'label': 'mm/day'})"
   ]
  },
  {
   "cell_type": "markdown",
   "metadata": {},
   "source": [
    "## Saving the subset polygon to GeoTiff\n",
    "The subset data can also be clipped by a polygon of interest and converted to GeoTiff using the `rioxarray` module. "
   ]
  },
  {
   "cell_type": "code",
   "execution_count": 14,
   "metadata": {},
   "outputs": [],
   "source": [
    "import rioxarray\n",
    "from shapely.geometry import mapping\n",
    "prcp_sub = rioxarray.open_rasterio(var + '_subset.nc', decode_coords=\"all\")\n",
    "prcp_clip = prcp_sub.prcp.rio.clip(grsm_poly_lcc.geometry.apply(mapping), grsm_poly_lcc.crs, invert=False, from_disk=True)\n",
    "\n",
    "# saving one time step to geotiff\n",
    "prcp_clip_day6 = prcp_clip.isel(time=6)\n",
    "prcp_clip_day6.rio.to_raster(\"prcp_clip_day6.tif\")"
   ]
  }
 ],
 "metadata": {
  "kernelspec": {
   "display_name": "Python 3",
   "language": "python",
   "name": "python3"
  },
  "language_info": {
   "codemirror_mode": {
    "name": "ipython",
    "version": 3
   },
   "file_extension": ".py",
   "mimetype": "text/x-python",
   "name": "python",
   "nbconvert_exporter": "python",
   "pygments_lexer": "ipython3",
   "version": "3.8.0"
  }
 },
 "nbformat": 4,
 "nbformat_minor": 2
}
